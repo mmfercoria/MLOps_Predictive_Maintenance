{
 "cells": [
  {
   "cell_type": "code",
   "execution_count": 1,
   "id": "229b2b1e",
   "metadata": {},
   "outputs": [],
   "source": [
    "import pandas as pd\n",
    "import numpy as np\n",
    "from datetime import timedelta\n",
    "from sklearn.ensemble import RandomForestClassifier\n",
    "from sklearn.model_selection import TimeSeriesSplit\n",
    "from sklearn.metrics import classification_report\n",
    "from sklearn.pipeline import Pipeline\n",
    "from sklearn.preprocessing import StandardScaler\n",
    "import joblib\n",
    "\n",
    "from sklearn.preprocessing import LabelEncoder\n"
   ]
  },
  {
   "cell_type": "code",
   "execution_count": 2,
   "id": "5efc6505",
   "metadata": {},
   "outputs": [],
   "source": [
    "telemetry = pd.read_csv(\"PdM_telemetry.csv\", parse_dates=[\"datetime\"])\n",
    "errors = pd.read_csv(\"PdM_errors.csv\", parse_dates=[\"datetime\"])\n",
    "failures = pd.read_csv(\"PdM_failures.csv\", parse_dates=[\"datetime\"])\n",
    "machines = pd.read_csv(\"PdM_machines.csv\")\n",
    "maint = pd.read_csv(\"PdM_maint.csv\", parse_dates=[\"datetime\"])"
   ]
  },
  {
   "cell_type": "code",
   "execution_count": 3,
   "id": "5731af23",
   "metadata": {},
   "outputs": [],
   "source": [
    "## Feature Engineering\n",
    "\n",
    "telemetry = telemetry.sort_values([\"machineID\", \"datetime\"])\n",
    "\n",
    "# Estadísticas móviles (3h y 24h)\n",
    "rolling_3h = telemetry.set_index(\"datetime\").groupby(\"machineID\")[[\"volt\", \"rotate\", \"pressure\", \"vibration\"]].rolling(\"3h\", min_periods=1).agg(['mean', 'std']).reset_index()\n",
    "rolling_3h.columns = [\"machineID\", \"datetime\"] + [f\"{col[0]}_{col[1]}_3h\" for col in rolling_3h.columns[2:]]\n",
    "\n",
    "rolling_24h = telemetry.set_index(\"datetime\").groupby(\"machineID\")[[\"volt\", \"rotate\", \"pressure\", \"vibration\"]].rolling(\"24h\", min_periods=1).agg(['mean', 'std']).reset_index()\n",
    "rolling_24h.columns = [\"machineID\", \"datetime\"] + [f\"{col[0]}_{col[1]}_24h\" for col in rolling_24h.columns[2:]]\n",
    "\n",
    "# Unir features\n",
    "features = pd.merge(rolling_3h, rolling_24h, on=[\"machineID\", \"datetime\"])"
   ]
  },
  {
   "cell_type": "code",
   "execution_count": 4,
   "id": "5b503b2a",
   "metadata": {},
   "outputs": [],
   "source": [
    "# Agregación de errores\n",
    "\n",
    "error_counts = errors.copy()\n",
    "error_counts[\"count\"] = 1\n",
    "error_counts = error_counts.set_index(\"datetime\").groupby([\"machineID\", \"errorID\"]).rolling(\"24h\", min_periods=1)[\"count\"].sum().reset_index()\n",
    "error_pivot = error_counts.pivot_table(index=[\"machineID\", \"datetime\"], columns=\"errorID\", values=\"count\").fillna(0).reset_index()"
   ]
  },
  {
   "cell_type": "code",
   "execution_count": 5,
   "id": "4b925741",
   "metadata": {},
   "outputs": [],
   "source": [
    "features = pd.merge(features, error_pivot, on=[\"machineID\", \"datetime\"], how=\"left\").fillna(0)"
   ]
  },
  {
   "cell_type": "code",
   "execution_count": 6,
   "id": "5c48aa2b",
   "metadata": {},
   "outputs": [],
   "source": [
    "## Información de maquina\n",
    "features = pd.merge(features, machines, on=\"machineID\", how=\"left\")\n",
    "features[\"model\"] = LabelEncoder().fit_transform(features[\"model\"])"
   ]
  },
  {
   "cell_type": "code",
   "execution_count": 7,
   "id": "cd5e95d4",
   "metadata": {},
   "outputs": [
    {
     "data": {
      "text/plain": [
       "Index(['machineID', 'datetime', 'volt_mean_3h', 'volt_std_3h',\n",
       "       'rotate_mean_3h', 'rotate_std_3h', 'pressure_mean_3h',\n",
       "       'pressure_std_3h', 'vibration_mean_3h', 'vibration_std_3h',\n",
       "       'volt_mean_24h', 'volt_std_24h', 'rotate_mean_24h', 'rotate_std_24h',\n",
       "       'pressure_mean_24h', 'pressure_std_24h', 'vibration_mean_24h',\n",
       "       'vibration_std_24h', 'error1', 'error2', 'error3', 'error4', 'error5',\n",
       "       'model', 'age'],\n",
       "      dtype='object')"
      ]
     },
     "execution_count": 7,
     "metadata": {},
     "output_type": "execute_result"
    }
   ],
   "source": [
    "features.columns"
   ]
  },
  {
   "cell_type": "code",
   "execution_count": 8,
   "id": "96de0715",
   "metadata": {},
   "outputs": [],
   "source": [
    "## Etiquetado\n",
    "\n",
    "failures[\"label\"] = 1\n",
    "future_failures = failures.copy()\n",
    "future_failures[\"datetime\"] = future_failures[\"datetime\"] - pd.Timedelta(\"24h\")\n",
    "labels = telemetry[[\"machineID\", \"datetime\"]].merge(future_failures, on=[\"machineID\", \"datetime\"], how=\"left\").fillna(0)\n",
    "labels[\"label\"] = labels[\"label\"].apply(lambda x: 1 if x != 0 else 0)\n",
    "\n",
    "# Dataset final\n",
    "dataset = pd.merge(features, labels[[\"machineID\", \"datetime\", \"label\"]], on=[\"machineID\", \"datetime\"], how=\"left\")\n",
    "dataset[\"label\"] = dataset[\"label\"].fillna(0).astype(int)\n",
    "dataset = dataset.dropna()"
   ]
  },
  {
   "cell_type": "code",
   "execution_count": 9,
   "id": "7ba9caa4",
   "metadata": {},
   "outputs": [
    {
     "name": "stdout",
     "output_type": "stream",
     "text": [
      "Train class distribution:\n",
      "label\n",
      "0    700229\n",
      "1       603\n",
      "Name: count, dtype: int64\n"
     ]
    }
   ],
   "source": [
    "split_date = dataset[\"datetime\"].quantile(0.8)\n",
    "\n",
    "train = dataset[dataset[\"datetime\"] < split_date]\n",
    "test = dataset[dataset[\"datetime\"] >= split_date]\n",
    "\n",
    "X_train = train.drop(columns=[\"datetime\", \"label\"])\n",
    "y_train = train[\"label\"]\n",
    "\n",
    "X_test = test.drop(columns=[\"datetime\", \"label\"])\n",
    "y_test = test[\"label\"]\n",
    "\n",
    "print(\"Train class distribution:\")\n",
    "print(y_train.value_counts())"
   ]
  },
  {
   "cell_type": "code",
   "execution_count": 10,
   "id": "84b5cc34",
   "metadata": {},
   "outputs": [
    {
     "name": "stdout",
     "output_type": "stream",
     "text": [
      "Balanced class distribution:\n",
      "label\n",
      "0    1809\n",
      "1     603\n",
      "Name: count, dtype: int64\n"
     ]
    }
   ],
   "source": [
    "\n",
    "from sklearn.utils import resample\n",
    "\n",
    "train_data = pd.concat([X_train, y_train], axis=1)\n",
    "class_0 = train_data[train_data.label == 0]\n",
    "class_1 = train_data[train_data.label == 1]\n",
    "\n",
    "# Undersample clase 0 para lograr un ratio 3:1\n",
    "class_0_under = class_0.sample(n=len(class_1)*3, random_state=42)\n",
    "balanced_train = pd.concat([class_0_under, class_1])\n",
    "\n",
    "X_train_bal = balanced_train.drop(columns=\"label\")\n",
    "y_train_bal = balanced_train[\"label\"]\n",
    "\n",
    "print(\"Balanced class distribution:\")\n",
    "print(y_train_bal.value_counts())\n"
   ]
  },
  {
   "cell_type": "code",
   "execution_count": 11,
   "id": "bb149db2",
   "metadata": {},
   "outputs": [
    {
     "name": "stdout",
     "output_type": "stream",
     "text": [
      "[[175059    110]\n",
      " [     0    140]]\n",
      "              precision    recall  f1-score   support\n",
      "\n",
      "           0       1.00      1.00      1.00    175169\n",
      "           1       0.56      1.00      0.72       140\n",
      "\n",
      "    accuracy                           1.00    175309\n",
      "   macro avg       0.78      1.00      0.86    175309\n",
      "weighted avg       1.00      1.00      1.00    175309\n",
      "\n",
      "AUC: 1.0000\n"
     ]
    }
   ],
   "source": [
    "# Entrenamiento de modelo\n",
    "\n",
    "from sklearn.ensemble import RandomForestClassifier\n",
    "from sklearn.metrics import classification_report, roc_auc_score, confusion_matrix\n",
    "\n",
    "model = RandomForestClassifier(n_estimators=100, random_state=42, class_weight='balanced')\n",
    "model.fit(X_train_bal, y_train_bal)\n",
    "\n",
    "y_pred = model.predict(X_test)\n",
    "y_probs = model.predict_proba(X_test)[:, 1]\n",
    "\n",
    "print(confusion_matrix(y_test, y_pred))\n",
    "print(classification_report(y_test, y_pred))\n",
    "print(f\"AUC: {roc_auc_score(y_test, y_probs):.4f}\")"
   ]
  },
  {
   "cell_type": "code",
   "execution_count": null,
   "id": "88d6b98d",
   "metadata": {},
   "outputs": [],
   "source": []
  },
  {
   "cell_type": "code",
   "execution_count": null,
   "id": "c421808f",
   "metadata": {},
   "outputs": [],
   "source": []
  }
 ],
 "metadata": {
  "kernelspec": {
   "display_name": "MLOps_Predictive_Maintenance",
   "language": "python",
   "name": "python3"
  },
  "language_info": {
   "codemirror_mode": {
    "name": "ipython",
    "version": 3
   },
   "file_extension": ".py",
   "mimetype": "text/x-python",
   "name": "python",
   "nbconvert_exporter": "python",
   "pygments_lexer": "ipython3",
   "version": "3.13.3"
  }
 },
 "nbformat": 4,
 "nbformat_minor": 5
}
