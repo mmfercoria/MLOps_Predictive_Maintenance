{
 "cells": [
  {
   "cell_type": "code",
   "execution_count": 1,
   "id": "7dc64fae",
   "metadata": {},
   "outputs": [],
   "source": [
    "import pandas as pd\n",
    "import numpy as np\n",
    "from sklearn.model_selection import train_test_split\n",
    "from sklearn.ensemble import RandomForestClassifier\n",
    "from sklearn.metrics import classification_report, confusion_matrix, roc_auc_score\n",
    "from sklearn.utils import resample\n"
   ]
  },
  {
   "cell_type": "code",
   "execution_count": 2,
   "id": "1a21386b",
   "metadata": {},
   "outputs": [],
   "source": [
    "telemetry = pd.read_csv(\"train_telemetry.csv\", parse_dates=[\"datetime\"])\n",
    "failures = pd.read_csv(\"train_failures.csv\", parse_dates=[\"datetime\"])\n",
    "machines = pd.read_csv(\"PdM_machines.csv\")"
   ]
  },
  {
   "cell_type": "code",
   "execution_count": 3,
   "id": "2ca6f6a0",
   "metadata": {},
   "outputs": [],
   "source": [
    "# Definir punto de corte\n",
    "#cutoff_date = pd.Timestamp(\"2015-10-01\")\n",
    "\n",
    "#telemetry = pd.read_csv(\"PdM_telemetry.csv\", parse_dates=[\"datetime\"])\n",
    "#failures = pd.read_csv(\"PdM_failures.csv\", parse_dates=[\"datetime\"])\n",
    "#machines = pd.read_csv(\"PdM_machines.csv\")\n",
    "\n",
    "#errors = pd.read_csv(\"PdM_errors.csv\", parse_dates=[\"datetime\"])\n",
    "#maint = pd.read_csv(\"PdM_maint.csv\", parse_dates=[\"datetime\"])"
   ]
  },
  {
   "cell_type": "code",
   "execution_count": 4,
   "id": "73308a3d",
   "metadata": {},
   "outputs": [],
   "source": [
    "telemetry = telemetry.sort_values(by=[\"machineID\", \"datetime\"])\n",
    "\n",
    "rolling = telemetry.set_index(\"datetime\") \\\n",
    "    .groupby(\"machineID\")[[\"volt\", \"rotate\", \"pressure\", \"vibration\"]] \\\n",
    "    .rolling(\"3h\", min_periods=1) \\\n",
    "    .agg(['mean', 'std']) \\\n",
    "    .reset_index()\n",
    "\n",
    "rolling.columns = [\"machineID\", \"datetime\"] + [f\"{col[0]}_{col[1]}_3h\" for col in rolling.columns[2:]]\n"
   ]
  },
  {
   "cell_type": "code",
   "execution_count": 5,
   "id": "a493ac1c",
   "metadata": {},
   "outputs": [],
   "source": [
    "failures[\"label\"] = 1\n",
    "\n",
    "telemetry_labels = pd.merge_asof(\n",
    "    rolling.sort_values(\"datetime\"),\n",
    "    failures.sort_values(\"datetime\"),\n",
    "    by=\"machineID\",\n",
    "    on=\"datetime\",\n",
    "    direction=\"forward\",\n",
    "    tolerance=pd.Timedelta(\"24h\")\n",
    ")\n",
    "\n",
    "telemetry_labels[\"label\"] = telemetry_labels[\"label\"].fillna(0)\n"
   ]
  },
  {
   "cell_type": "code",
   "execution_count": 6,
   "id": "7dc41076",
   "metadata": {},
   "outputs": [],
   "source": [
    "# Merge con datos de máquina\n",
    "data = pd.merge(telemetry_labels, machines, on=\"machineID\", how=\"left\")\n",
    "\n",
    "# One-hot encoding\n",
    "data[\"model\"] = data[\"model\"].astype(str)\n",
    "data = pd.get_dummies(data, columns=[\"model\"])\n",
    "\n",
    "# Elimina columna categórica 'failure' que contiene texto\n",
    "if \"failure\" in data.columns:\n",
    "    data = data.drop(columns=[\"failure\"])\n",
    "\n",
    "# Eliminar columna datetime\n",
    "data = data.drop(columns=[\"datetime\"])\n",
    "\n",
    "# Separar X, y\n",
    "X = data.drop(columns=[\"label\"])\n",
    "y = data[\"label\"]\n"
   ]
  },
  {
   "cell_type": "code",
   "execution_count": 7,
   "id": "b84ffdc3",
   "metadata": {},
   "outputs": [],
   "source": [
    "train_data = pd.concat([X, y], axis=1)\n",
    "class_0 = train_data[train_data.label == 0]\n",
    "class_1 = train_data[train_data.label == 1]\n",
    "\n",
    "class_0_downsampled = resample(class_0, replace=False, n_samples=len(class_1)*3, random_state=42)\n",
    "balanced = pd.concat([class_1, class_0_downsampled])\n",
    "\n",
    "X_bal = balanced.drop(columns=[\"label\"])\n",
    "y_bal = balanced[\"label\"]"
   ]
  },
  {
   "cell_type": "code",
   "execution_count": 8,
   "id": "e73b931e",
   "metadata": {},
   "outputs": [],
   "source": [
    "X_train, X_test, y_train, y_test = train_test_split(\n",
    "    X_bal, y_bal, test_size=0.2, random_state=42, stratify=y_bal\n",
    ")"
   ]
  },
  {
   "cell_type": "code",
   "execution_count": 10,
   "id": "79f53a9b",
   "metadata": {},
   "outputs": [],
   "source": [
    "model = RandomForestClassifier(n_estimators=100, random_state=42)\n",
    "model.fit(X_train, y_train)\n",
    "\n",
    "y_pred = model.predict(X_test)\n",
    "y_prob = model.predict_proba(X_test)[:, 1]"
   ]
  },
  {
   "cell_type": "code",
   "execution_count": 11,
   "id": "a7d7ed62",
   "metadata": {},
   "outputs": [
    {
     "name": "stdout",
     "output_type": "stream",
     "text": [
      "[[7546  631]\n",
      " [ 650 2075]]\n",
      "              precision    recall  f1-score   support\n",
      "\n",
      "         0.0       0.92      0.92      0.92      8177\n",
      "         1.0       0.77      0.76      0.76      2725\n",
      "\n",
      "    accuracy                           0.88     10902\n",
      "   macro avg       0.84      0.84      0.84     10902\n",
      "weighted avg       0.88      0.88      0.88     10902\n",
      "\n",
      "AUC: 0.9324118555850882\n"
     ]
    }
   ],
   "source": [
    "print(confusion_matrix(y_test, y_pred))\n",
    "print(classification_report(y_test, y_pred))\n",
    "print(\"AUC:\", roc_auc_score(y_test, y_prob))"
   ]
  },
  {
   "cell_type": "code",
   "execution_count": 15,
   "id": "bb7552f7",
   "metadata": {},
   "outputs": [
    {
     "name": "stdout",
     "output_type": "stream",
     "text": [
      "[[9891  851]\n",
      " [ 839 2741]]\n",
      "              precision    recall  f1-score   support\n",
      "\n",
      "         0.0       0.92      0.92      0.92     10742\n",
      "         1.0       0.76      0.77      0.76      3580\n",
      "\n",
      "    accuracy                           0.88     14322\n",
      "   macro avg       0.84      0.84      0.84     14322\n",
      "weighted avg       0.88      0.88      0.88     14322\n",
      "\n",
      "AUC: 0.9310577366136576\n"
     ]
    }
   ],
   "source": [
    "print(confusion_matrix(y_test, y_pred))\n",
    "print(classification_report(y_test, y_pred))\n",
    "print(\"AUC:\", roc_auc_score(y_test, y_prob))"
   ]
  },
  {
   "cell_type": "code",
   "execution_count": null,
   "id": "be9a5f03",
   "metadata": {},
   "outputs": [],
   "source": []
  },
  {
   "cell_type": "code",
   "execution_count": null,
   "id": "e657f4c8",
   "metadata": {},
   "outputs": [],
   "source": []
  },
  {
   "cell_type": "code",
   "execution_count": null,
   "id": "5a20ef3a",
   "metadata": {},
   "outputs": [],
   "source": []
  }
 ],
 "metadata": {
  "kernelspec": {
   "display_name": "MLOps_Predictive_Maintenance",
   "language": "python",
   "name": "python3"
  },
  "language_info": {
   "codemirror_mode": {
    "name": "ipython",
    "version": 3
   },
   "file_extension": ".py",
   "mimetype": "text/x-python",
   "name": "python",
   "nbconvert_exporter": "python",
   "pygments_lexer": "ipython3",
   "version": "3.13.3"
  }
 },
 "nbformat": 4,
 "nbformat_minor": 5
}
